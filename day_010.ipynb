{
 "cells": [
  {
   "cell_type": "code",
   "execution_count": null,
   "metadata": {},
   "outputs": [],
   "source": [
    "import numpy as np"
   ]
  },
  {
   "cell_type": "markdown",
   "metadata": {},
   "source": [
    " ### In NumPy, we can compute the mean, standard deviation, and variance of a given array along the second axis by two approaches first is by using inbuilt functions and second is by the formulas of the mean, standard deviation, and variance."
   ]
  },
  {
   "cell_type": "code",
   "execution_count": null,
   "metadata": {},
   "outputs": [],
   "source": [
    "#Using numpy.mean(), numpy.std(), numpy.var()\n",
    "# Original array\n",
    "array = np.arange(10)\n",
    "print(array)\n",
    "\n",
    "r1 = np.mean(array)\n",
    "print(\"\\nMean: \", r1)\n",
    "\n",
    "r2 = np.std(array)\n",
    "print(\"\\nstd: \", r2)\n",
    "\n",
    "r3 = np.var(array)\n",
    "print(\"\\nvariance: \", r3)"
   ]
  },
  {
   "cell_type": "code",
   "execution_count": null,
   "metadata": {},
   "outputs": [],
   "source": [
    "#Using the formula\n",
    "# Original array\n",
    "array = np.arange(10)\n",
    "print(array)\n",
    "  \n",
    "r1 = np.average(array)\n",
    "print(\"\\nMean: \", r1)\n",
    "  \n",
    "r2 = np.sqrt(np.mean((array - np.mean(array)) ** 2))\n",
    "print(\"\\nstd: \", r2)\n",
    "  \n",
    "r3 = np.mean((array - np.mean(array)) ** 2)\n",
    "print(\"\\nvariance: \", r3)"
   ]
  },
  {
   "cell_type": "markdown",
   "metadata": {},
   "source": [
    "### The numpy.reshape() function is used to change the shape of the numpy array without modifying the array data. To use this function, pass the array and the new shape to np.reshape(). The shape argument should be passed in the form either “tuple” or “int”."
   ]
  },
  {
   "cell_type": "code",
   "execution_count": 19,
   "metadata": {},
   "outputs": [
    {
     "name": "stdout",
     "output_type": "stream",
     "text": [
      "[ 1  2  3  4  5  6  7  8  9 10 11 12 13 14 15 16 17 18 19 20 21 22 23 24\n",
      " 25 26 27 28 29 30 31 32 33 34 35 36 37 38 39 40 41 42 43 44 45 46 47 48\n",
      " 49 50 51 52 53 54 55 56 57 58 59 60 61 62 63 64]\n"
     ]
    },
    {
     "data": {
      "text/plain": [
       "array([[[[ 1,  2,  3,  4],\n",
       "         [ 5,  6,  7,  8]],\n",
       "\n",
       "        [[ 9, 10, 11, 12],\n",
       "         [13, 14, 15, 16]],\n",
       "\n",
       "        [[17, 18, 19, 20],\n",
       "         [21, 22, 23, 24]],\n",
       "\n",
       "        [[25, 26, 27, 28],\n",
       "         [29, 30, 31, 32]]],\n",
       "\n",
       "\n",
       "       [[[33, 34, 35, 36],\n",
       "         [37, 38, 39, 40]],\n",
       "\n",
       "        [[41, 42, 43, 44],\n",
       "         [45, 46, 47, 48]],\n",
       "\n",
       "        [[49, 50, 51, 52],\n",
       "         [53, 54, 55, 56]],\n",
       "\n",
       "        [[57, 58, 59, 60],\n",
       "         [61, 62, 63, 64]]]])"
      ]
     },
     "execution_count": 19,
     "metadata": {},
     "output_type": "execute_result"
    }
   ],
   "source": [
    "#create a numpy array\n",
    "num_array = np.arange(1,65)\n",
    "print(num_array)\n",
    "\n",
    "np.reshape(num_array, (2,4,2,4))"
   ]
  }
 ],
 "metadata": {
  "kernelspec": {
   "display_name": "Python 3.10.7 64-bit",
   "language": "python",
   "name": "python3"
  },
  "language_info": {
   "codemirror_mode": {
    "name": "ipython",
    "version": 3
   },
   "file_extension": ".py",
   "mimetype": "text/x-python",
   "name": "python",
   "nbconvert_exporter": "python",
   "pygments_lexer": "ipython3",
   "version": "3.10.7"
  },
  "orig_nbformat": 4,
  "vscode": {
   "interpreter": {
    "hash": "6f5b53ea504ebfa04f8fb7433339a268f74c2ccc58003020fc3ce3105a10d9ba"
   }
  }
 },
 "nbformat": 4,
 "nbformat_minor": 2
}
